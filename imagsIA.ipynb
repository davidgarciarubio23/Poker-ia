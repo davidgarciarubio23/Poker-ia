{
 "cells": [
  {
   "cell_type": "code",
   "execution_count": null,
   "metadata": {},
   "outputs": [
    {
     "name": "stdout",
     "output_type": "stream",
     "text": [
      "En la imagen se observa a dos jugadoras de voleibol en un gimnasio. Una de ellas está en el proceso de golpear el balón, mientras que la otra parece estar en segundo plano. Ambas llevan camisetas azules y están en una cancha de voleibol, con una red visible en el centro.\n"
     ]
    }
   ],
   "source": [
    "import base64\n",
    "from openai import OpenAI\n",
    "\n",
    "def encode_image(image_path):\n",
    "    with open(image_path, \"rb\") as image_file:\n",
    "        return base64.b64encode(image_file.read()).decode('utf-8')\n",
    "\n",
    "image_path = \"imgs/Screenshot_2.png\"\n",
    "base64_image = encode_image(image_path)\n",
    "\n",
    "client = OpenAI(\n",
    "    api_key=\"Tu_Clave_Api\",\n",
    ")\n",
    "\n",
    "chat_completion = client.chat.completions.create(\n",
    "    model=\"gpt-4o-mini\",\n",
    "    messages=[\n",
    "        {\n",
    "            \"role\": \"user\",\n",
    "            \"content\": [\n",
    "                {\"type\": \"text\", \"text\": \"Que hay en la imagen?\"},\n",
    "                {\n",
    "                    \"type\": \"image_url\",\n",
    "                    \"image_url\": {\n",
    "                        \"url\": f\"data:image/jpeg;base64,{base64_image}\",\n",
    "                    },\n",
    "                },\n",
    "            ],\n",
    "        }\n",
    "    ],\n",
    "    max_tokens=500,\n",
    ")\n",
    "\n",
    "\n",
    "\n",
    "# Ajustar el acceso a los datos según la estructura correcta\n",
    "try:\n",
    "    print(chat_completion.choices[0].message.content)\n",
    "except AttributeError as e:\n",
    "    print(f\"Error al acceder a los datos: {e}\")\n"
   ]
  }
 ],
 "metadata": {
  "kernelspec": {
   "display_name": "venv",
   "language": "python",
   "name": "python3"
  },
  "language_info": {
   "codemirror_mode": {
    "name": "ipython",
    "version": 3
   },
   "file_extension": ".py",
   "mimetype": "text/x-python",
   "name": "python",
   "nbconvert_exporter": "python",
   "pygments_lexer": "ipython3",
   "version": "3.12.5"
  }
 },
 "nbformat": 4,
 "nbformat_minor": 2
}
